{
  "cells": [
    {
      "cell_type": "code",
      "execution_count": null,
      "id": "eb3adf3c-9bd3-4d28-9402-40c94052de3b",
      "metadata": {
        "id": "eb3adf3c-9bd3-4d28-9402-40c94052de3b",
        "outputId": "3b36d53a-aa3c-4ce0-c9a8-bc7b7af496fb"
      },
      "outputs": [
        {
          "data": {
            "text/plain": [
              "{1, 2, 3, 4, 5}"
            ]
          },
          "execution_count": 1,
          "metadata": {},
          "output_type": "execute_result"
        }
      ],
      "source": [
        "s = {1, 2, 2, 3, 4, 5}\n",
        "s"
      ]
    },
    {
      "cell_type": "code",
      "execution_count": null,
      "id": "644c1a48-782a-466d-9170-5a557289133a",
      "metadata": {
        "id": "644c1a48-782a-466d-9170-5a557289133a",
        "outputId": "485e8c18-4383-4a8c-b809-83e7d80fc474"
      },
      "outputs": [
        {
          "data": {
            "text/plain": [
              "set"
            ]
          },
          "execution_count": 2,
          "metadata": {},
          "output_type": "execute_result"
        }
      ],
      "source": [
        "type(s)"
      ]
    },
    {
      "cell_type": "code",
      "execution_count": null,
      "id": "54d8fa5c-0d09-4bcd-bc0e-a931d77875a2",
      "metadata": {
        "id": "54d8fa5c-0d09-4bcd-bc0e-a931d77875a2",
        "outputId": "ad5d57eb-183d-4cc7-b112-acc30ba32664"
      },
      "outputs": [
        {
          "data": {
            "text/plain": [
              "{1, 2, 3, 4, 5}"
            ]
          },
          "execution_count": 3,
          "metadata": {},
          "output_type": "execute_result"
        }
      ],
      "source": [
        "#set is a collection of unique elements\n",
        "#unordered, unindexed and immutable\n",
        "s"
      ]
    },
    {
      "cell_type": "code",
      "execution_count": null,
      "id": "e267780d-1a67-44b2-baaf-78dc6194085b",
      "metadata": {
        "id": "e267780d-1a67-44b2-baaf-78dc6194085b",
        "outputId": "eec6f6ef-842b-49f8-fe0f-35acc2e3b0a4"
      },
      "outputs": [
        {
          "ename": "TypeError",
          "evalue": "'set' object is not subscriptable",
          "output_type": "error",
          "traceback": [
            "\u001b[0;31m---------------------------------------------------------------------------\u001b[0m",
            "\u001b[0;31mTypeError\u001b[0m                                 Traceback (most recent call last)",
            "Cell \u001b[0;32mIn[4], line 1\u001b[0m\n\u001b[0;32m----> 1\u001b[0m \u001b[43ms\u001b[49m\u001b[43m[\u001b[49m\u001b[38;5;241;43m0\u001b[39;49m\u001b[43m]\u001b[49m \u001b[38;5;66;03m#throw an error\u001b[39;00m\n",
            "\u001b[0;31mTypeError\u001b[0m: 'set' object is not subscriptable"
          ]
        }
      ],
      "source": [
        "s[0] #throw an error"
      ]
    },
    {
      "cell_type": "code",
      "execution_count": null,
      "id": "632a02a3-d565-41fa-b347-1a4067337746",
      "metadata": {
        "id": "632a02a3-d565-41fa-b347-1a4067337746",
        "outputId": "df77ad8b-e15a-4ad6-da82-6b644df8a781"
      },
      "outputs": [
        {
          "ename": "TypeError",
          "evalue": "'set' object does not support item assignment",
          "output_type": "error",
          "traceback": [
            "\u001b[0;31m---------------------------------------------------------------------------\u001b[0m",
            "\u001b[0;31mTypeError\u001b[0m                                 Traceback (most recent call last)",
            "Cell \u001b[0;32mIn[5], line 1\u001b[0m\n\u001b[0;32m----> 1\u001b[0m \u001b[43ms\u001b[49m\u001b[43m[\u001b[49m\u001b[38;5;241;43m0\u001b[39;49m\u001b[43m]\u001b[49m \u001b[38;5;241m=\u001b[39m \u001b[38;5;241m2\u001b[39m\n",
            "\u001b[0;31mTypeError\u001b[0m: 'set' object does not support item assignment"
          ]
        }
      ],
      "source": [
        "s[0] = 2 #immutable"
      ]
    },
    {
      "cell_type": "code",
      "execution_count": null,
      "id": "c0d81303-b588-4e6a-ab18-6128466a0365",
      "metadata": {
        "id": "c0d81303-b588-4e6a-ab18-6128466a0365",
        "outputId": "0752b189-98c9-42c0-8fa0-ee53fa336c80"
      },
      "outputs": [
        {
          "data": {
            "text/plain": [
              "5"
            ]
          },
          "execution_count": 6,
          "metadata": {},
          "output_type": "execute_result"
        }
      ],
      "source": [
        "max(s)"
      ]
    },
    {
      "cell_type": "code",
      "execution_count": null,
      "id": "c5131728-cb5c-4fa9-a89e-46631f3e8a22",
      "metadata": {
        "id": "c5131728-cb5c-4fa9-a89e-46631f3e8a22",
        "outputId": "3e0c5dc3-219b-4c8f-f37e-239991f40ac0"
      },
      "outputs": [
        {
          "data": {
            "text/plain": [
              "15"
            ]
          },
          "execution_count": 7,
          "metadata": {},
          "output_type": "execute_result"
        }
      ],
      "source": [
        "sum(s)"
      ]
    },
    {
      "cell_type": "code",
      "execution_count": null,
      "id": "472763fe-5eb7-4818-930c-d5ec2b01c811",
      "metadata": {
        "id": "472763fe-5eb7-4818-930c-d5ec2b01c811",
        "outputId": "a8c69de0-deae-4a38-cbd0-737a3875cc99"
      },
      "outputs": [
        {
          "data": {
            "text/plain": [
              "1"
            ]
          },
          "execution_count": 8,
          "metadata": {},
          "output_type": "execute_result"
        }
      ],
      "source": [
        "min(s)"
      ]
    },
    {
      "cell_type": "code",
      "execution_count": null,
      "id": "5961c798-dcef-470e-a689-5497706038ab",
      "metadata": {
        "id": "5961c798-dcef-470e-a689-5497706038ab",
        "outputId": "2a6a017c-8428-44a4-ce7d-2163a4d2520f"
      },
      "outputs": [
        {
          "data": {
            "text/plain": [
              "[1, 2, 3, 4, 5]"
            ]
          },
          "execution_count": 9,
          "metadata": {},
          "output_type": "execute_result"
        }
      ],
      "source": [
        "sorted(s)"
      ]
    },
    {
      "cell_type": "code",
      "execution_count": null,
      "id": "750f3eb7-d2e1-4868-84af-543985b472d6",
      "metadata": {
        "id": "750f3eb7-d2e1-4868-84af-543985b472d6"
      },
      "outputs": [],
      "source": [
        "#set operations>> intersection, union, subset, superset, difference and symmetric difference"
      ]
    },
    {
      "cell_type": "code",
      "execution_count": null,
      "id": "f8dfd521-ca20-48d8-9c05-e535c7fa65ec",
      "metadata": {
        "id": "f8dfd521-ca20-48d8-9c05-e535c7fa65ec"
      },
      "outputs": [],
      "source": [
        "set1 = {34, 67, 78, 100}\n",
        "set2 = {67, 78}"
      ]
    },
    {
      "cell_type": "code",
      "execution_count": null,
      "id": "d6512362-bd17-440d-b246-1f9f1c8537ce",
      "metadata": {
        "id": "d6512362-bd17-440d-b246-1f9f1c8537ce",
        "outputId": "49d4117c-12c0-4978-dabf-fa03d2dc8f04"
      },
      "outputs": [
        {
          "data": {
            "text/plain": [
              "{67, 78}"
            ]
          },
          "execution_count": 12,
          "metadata": {},
          "output_type": "execute_result"
        }
      ],
      "source": [
        "#intersection\n",
        "set1 & set2"
      ]
    },
    {
      "cell_type": "code",
      "execution_count": null,
      "id": "d48ba6a5-7a65-469d-bbef-051ed77d7388",
      "metadata": {
        "id": "d48ba6a5-7a65-469d-bbef-051ed77d7388",
        "outputId": "bd480329-3bce-483f-c1ab-814f34acc988"
      },
      "outputs": [
        {
          "data": {
            "text/plain": [
              "{67, 78}"
            ]
          },
          "execution_count": 13,
          "metadata": {},
          "output_type": "execute_result"
        }
      ],
      "source": [
        "#intersection\n",
        "set1.intersection(set2)"
      ]
    },
    {
      "cell_type": "code",
      "execution_count": null,
      "id": "d0c57f2a-c8e0-4fb5-b0a3-a9930dee69fe",
      "metadata": {
        "id": "d0c57f2a-c8e0-4fb5-b0a3-a9930dee69fe",
        "outputId": "b71174c0-7f41-4512-fab0-80fa3db2d662"
      },
      "outputs": [
        {
          "data": {
            "text/plain": [
              "{34, 67, 78, 100}"
            ]
          },
          "execution_count": 14,
          "metadata": {},
          "output_type": "execute_result"
        }
      ],
      "source": [
        "#union\n",
        "set1 | set2"
      ]
    },
    {
      "cell_type": "code",
      "execution_count": null,
      "id": "63f3f9af-b246-4eff-a9cf-b77d2136ab13",
      "metadata": {
        "id": "63f3f9af-b246-4eff-a9cf-b77d2136ab13",
        "outputId": "8590749b-a87f-4819-b5cf-2233592f46c0"
      },
      "outputs": [
        {
          "data": {
            "text/plain": [
              "{34, 67, 78, 100}"
            ]
          },
          "execution_count": 15,
          "metadata": {},
          "output_type": "execute_result"
        }
      ],
      "source": [
        "#union\n",
        "set1.union(set2)"
      ]
    },
    {
      "cell_type": "code",
      "execution_count": null,
      "id": "c4c180cc-a7f1-486d-b193-cda50fff6fd0",
      "metadata": {
        "id": "c4c180cc-a7f1-486d-b193-cda50fff6fd0",
        "outputId": "7e492b48-08b9-486b-c2ab-801a581a3d2d"
      },
      "outputs": [
        {
          "data": {
            "text/plain": [
              "{34, 100}"
            ]
          },
          "execution_count": 16,
          "metadata": {},
          "output_type": "execute_result"
        }
      ],
      "source": [
        "#difference\n",
        "set1-set2"
      ]
    },
    {
      "cell_type": "code",
      "execution_count": null,
      "id": "ceed7e36-cbcf-477a-91e9-33fd3a82b0e0",
      "metadata": {
        "id": "ceed7e36-cbcf-477a-91e9-33fd3a82b0e0",
        "outputId": "9fef8cc9-fc53-49d8-a0e1-96ee714b99db"
      },
      "outputs": [
        {
          "data": {
            "text/plain": [
              "{34, 100}"
            ]
          },
          "execution_count": 17,
          "metadata": {},
          "output_type": "execute_result"
        }
      ],
      "source": [
        "#difference\n",
        "set1.difference(set2)"
      ]
    },
    {
      "cell_type": "code",
      "execution_count": null,
      "id": "1a6d1669-381b-40be-acbe-1ce42790aa98",
      "metadata": {
        "id": "1a6d1669-381b-40be-acbe-1ce42790aa98",
        "outputId": "f6450dd4-2cb6-47dc-f785-67b044680921"
      },
      "outputs": [
        {
          "data": {
            "text/plain": [
              "True"
            ]
          },
          "execution_count": 18,
          "metadata": {},
          "output_type": "execute_result"
        }
      ],
      "source": [
        "#superset\n",
        "set1.issuperset(set2)"
      ]
    },
    {
      "cell_type": "code",
      "execution_count": null,
      "id": "7b167e47-6c75-4799-9f3b-7c5494e76f50",
      "metadata": {
        "id": "7b167e47-6c75-4799-9f3b-7c5494e76f50",
        "outputId": "61244e33-a993-4227-ec6a-979faaa104c8"
      },
      "outputs": [
        {
          "data": {
            "text/plain": [
              "False"
            ]
          },
          "execution_count": 20,
          "metadata": {},
          "output_type": "execute_result"
        }
      ],
      "source": [
        "#subset\n",
        "set1.issubset(set2)"
      ]
    },
    {
      "cell_type": "code",
      "execution_count": null,
      "id": "8c62e94d-b79d-46ff-8ec0-9ce45995fbc2",
      "metadata": {
        "id": "8c62e94d-b79d-46ff-8ec0-9ce45995fbc2",
        "outputId": "cc6b6b78-9ff9-426c-bf8c-3319141bb506"
      },
      "outputs": [
        {
          "data": {
            "text/plain": [
              "True"
            ]
          },
          "execution_count": 21,
          "metadata": {},
          "output_type": "execute_result"
        }
      ],
      "source": [
        "#subset\n",
        "set2.issubset(set2)"
      ]
    },
    {
      "cell_type": "code",
      "execution_count": null,
      "id": "23dfec78-1666-4e1e-8c46-e37ff8298448",
      "metadata": {
        "id": "23dfec78-1666-4e1e-8c46-e37ff8298448",
        "outputId": "9cba00a8-d76c-480d-e560-b51c95374454"
      },
      "outputs": [
        {
          "data": {
            "text/plain": [
              "False"
            ]
          },
          "execution_count": 23,
          "metadata": {},
          "output_type": "execute_result"
        }
      ],
      "source": [
        "set2.issuperset(set1)"
      ]
    },
    {
      "cell_type": "code",
      "execution_count": null,
      "id": "a1dd2b80-3f9f-4582-8e9e-b520f87f49ba",
      "metadata": {
        "id": "a1dd2b80-3f9f-4582-8e9e-b520f87f49ba"
      },
      "outputs": [],
      "source": [
        "#symmetric difference\n"
      ]
    },
    {
      "cell_type": "code",
      "execution_count": null,
      "id": "57f168e9-73ba-4170-9ac2-0d4520406815",
      "metadata": {
        "id": "57f168e9-73ba-4170-9ac2-0d4520406815",
        "outputId": "4a84e7f6-83b1-4141-9194-3017485b347c"
      },
      "outputs": [
        {
          "data": {
            "text/plain": [
              "{34, 100, 102}"
            ]
          },
          "execution_count": 24,
          "metadata": {},
          "output_type": "execute_result"
        }
      ],
      "source": [
        "set1 = {34, 67, 78, 100}\n",
        "set2 = {67, 78, 102}\n",
        "\n",
        "set1 ^ set2"
      ]
    },
    {
      "cell_type": "code",
      "execution_count": null,
      "id": "d9c134b6-9f24-4796-b2b1-e086f849d3f1",
      "metadata": {
        "id": "d9c134b6-9f24-4796-b2b1-e086f849d3f1",
        "outputId": "1ed4c732-bb05-436a-a075-9d0f5c5d87bb"
      },
      "outputs": [
        {
          "data": {
            "text/plain": [
              "{34, 100, 102}"
            ]
          },
          "execution_count": 25,
          "metadata": {},
          "output_type": "execute_result"
        }
      ],
      "source": [
        "set1.symmetric_difference(set2)"
      ]
    },
    {
      "cell_type": "code",
      "execution_count": null,
      "id": "6f89c68e-fcc2-491d-9439-343759b85803",
      "metadata": {
        "id": "6f89c68e-fcc2-491d-9439-343759b85803"
      },
      "outputs": [],
      "source": []
    }
  ],
  "metadata": {
    "kernelspec": {
      "display_name": "Python 3 (ipykernel)",
      "language": "python",
      "name": "python3"
    },
    "language_info": {
      "codemirror_mode": {
        "name": "ipython",
        "version": 3
      },
      "file_extension": ".py",
      "mimetype": "text/x-python",
      "name": "python",
      "nbconvert_exporter": "python",
      "pygments_lexer": "ipython3",
      "version": "3.10.8"
    },
    "colab": {
      "provenance": []
    }
  },
  "nbformat": 4,
  "nbformat_minor": 5
}