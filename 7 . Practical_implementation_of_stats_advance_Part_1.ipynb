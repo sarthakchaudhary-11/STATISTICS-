{
  "cells": [
    {
      "cell_type": "code",
      "execution_count": null,
      "id": "f76db4a1",
      "metadata": {
        "id": "f76db4a1"
      },
      "outputs": [],
      "source": [
        "import pandas as pd\n",
        "import numpy as np\n",
        "import seaborn as sns\n",
        "\n",
        "import warnings\n",
        "warnings.filterwarnings('ignore')"
      ]
    },
    {
      "cell_type": "code",
      "execution_count": null,
      "id": "fbfeff31",
      "metadata": {
        "id": "fbfeff31"
      },
      "outputs": [],
      "source": [
        "population = np.random.randint(10, 20, 50)"
      ]
    },
    {
      "cell_type": "code",
      "execution_count": null,
      "id": "fa693013",
      "metadata": {
        "id": "fa693013",
        "outputId": "6ff1cc4c-7a39-41e9-966b-cec66b5ab5d2"
      },
      "outputs": [
        {
          "data": {
            "text/plain": [
              "array([11, 16, 14, 13, 10, 10, 19, 10, 19, 14, 10, 14, 18, 12, 16, 19, 10,\n",
              "       16, 14, 15, 18, 14, 16, 18, 16, 14, 15, 12, 10, 11, 11, 12, 19, 11,\n",
              "       11, 17, 13, 19, 15, 12, 12, 15, 17, 12, 13, 19, 15, 11, 18, 15])"
            ]
          },
          "execution_count": 3,
          "metadata": {},
          "output_type": "execute_result"
        }
      ],
      "source": [
        "population"
      ]
    },
    {
      "cell_type": "code",
      "execution_count": null,
      "id": "ef92c1eb",
      "metadata": {
        "id": "ef92c1eb",
        "outputId": "306b8247-3efe-48e7-958c-db0ac3b432d3"
      },
      "outputs": [
        {
          "data": {
            "text/plain": [
              "50"
            ]
          },
          "execution_count": 4,
          "metadata": {},
          "output_type": "execute_result"
        }
      ],
      "source": [
        "len(population)"
      ]
    },
    {
      "cell_type": "code",
      "execution_count": null,
      "id": "6fe3d712",
      "metadata": {
        "id": "6fe3d712",
        "outputId": "012a8d1b-ca5d-46e2-e25a-a7d4a04bfe4a"
      },
      "outputs": [
        {
          "name": "stdout",
          "output_type": "stream",
          "text": [
            "The mean of the population 14.22\n",
            "The median of the population 14.0\n",
            "The mode of the population 11\n"
          ]
        }
      ],
      "source": [
        "import statistics\n",
        "print(\"The mean of the population\", np.mean(population))\n",
        "print(\"The median of the population\", np.median(population))\n",
        "print(\"The mode of the population\", statistics.mode(population))"
      ]
    },
    {
      "cell_type": "code",
      "execution_count": null,
      "id": "efa97cd6",
      "metadata": {
        "id": "efa97cd6"
      },
      "outputs": [],
      "source": [
        "sample1 = np.random.choice(population, 20)\n",
        "sample2 = np.random.choice(population, 20)\n",
        "sample3 = np.random.choice(population, 20)\n",
        "sample4 = np.random.choice(population, 20)"
      ]
    },
    {
      "cell_type": "code",
      "execution_count": null,
      "id": "e748fc33",
      "metadata": {
        "id": "e748fc33"
      },
      "outputs": [],
      "source": [
        "mean_of_samples = []\n",
        "all_samples = [sample1, sample2, sample3, sample4]\n",
        "\n",
        "for sample in all_samples:\n",
        "    mean_of_samples.append(np.mean(sample))"
      ]
    },
    {
      "cell_type": "code",
      "execution_count": null,
      "id": "268af297",
      "metadata": {
        "id": "268af297",
        "outputId": "805732a5-d624-4585-c96f-3ecb019ee37c"
      },
      "outputs": [
        {
          "data": {
            "text/plain": [
              "[13.6, 13.8, 13.2, 13.05]"
            ]
          },
          "execution_count": 13,
          "metadata": {},
          "output_type": "execute_result"
        }
      ],
      "source": [
        "mean_of_samples"
      ]
    },
    {
      "cell_type": "code",
      "execution_count": null,
      "id": "a0984c64",
      "metadata": {
        "id": "a0984c64"
      },
      "outputs": [],
      "source": [
        "#central limit theorem >> The sample mean distribution will be approximated to normal distribution given sample size >= 30 and\n",
        "#no of samples are sufficiently large enough"
      ]
    },
    {
      "cell_type": "code",
      "execution_count": null,
      "id": "db4d018c",
      "metadata": {
        "id": "db4d018c"
      },
      "outputs": [],
      "source": [
        "population = np.random.binomial(10, 0.5, 100000) #This is no of trials or experiment, it represents the of times an event is repeated\n",
        "#0.5 is probability of success\n",
        "#100000 >> will generate 100000 of random nos representing the outcome of independent trial"
      ]
    },
    {
      "cell_type": "code",
      "execution_count": null,
      "id": "5e39de32",
      "metadata": {
        "id": "5e39de32",
        "outputId": "6d7b01ca-5c52-4267-a8b7-51dc76a52b84"
      },
      "outputs": [
        {
          "data": {
            "text/plain": [
              "100000"
            ]
          },
          "execution_count": 17,
          "metadata": {},
          "output_type": "execute_result"
        }
      ],
      "source": [
        "len(population)"
      ]
    },
    {
      "cell_type": "code",
      "execution_count": null,
      "id": "42574f20",
      "metadata": {
        "id": "42574f20",
        "outputId": "c4931eab-155a-4423-d3e2-57b6bf29e52f"
      },
      "outputs": [
        {
          "data": {
            "text/plain": [
              "<Axes: ylabel='Density'>"
            ]
          },
          "execution_count": 18,
          "metadata": {},
          "output_type": "execute_result"
        },
        {
          "data": {
            "image/png": "[encoded data removed]",
            "text/plain": [
              "<Figure size 640x480 with 1 Axes>"
            ]
          },
          "metadata": {},
          "output_type": "display_data"
        }
      ],
      "source": [
        "sns.distplot(population)"
      ]
    },
    {
      "cell_type": "code",
      "execution_count": null,
      "id": "100fc785",
      "metadata": {
        "id": "100fc785"
      },
      "outputs": [],
      "source": [
        "sample_size = int(len(population) *0.030)"
      ]
    },
    {
      "cell_type": "code",
      "execution_count": null,
      "id": "7aa0531c",
      "metadata": {
        "id": "7aa0531c",
        "outputId": "387ffece-aa1f-4f43-f7b8-fd671a8a137a"
      },
      "outputs": [
        {
          "data": {
            "text/plain": [
              "3000"
            ]
          },
          "execution_count": 20,
          "metadata": {},
          "output_type": "execute_result"
        }
      ],
      "source": [
        "sample_size"
      ]
    },
    {
      "cell_type": "code",
      "execution_count": null,
      "id": "160a10a7",
      "metadata": {
        "id": "160a10a7"
      },
      "outputs": [],
      "source": [
        "mean_of_samples = []\n",
        "\n",
        "\n",
        "for i in range(1, 1000):\n",
        "    sample = np.random.choice(population, size = sample_size)\n",
        "    mean_of_samples.append(np.mean(sample))"
      ]
    },
    {
      "cell_type": "code",
      "execution_count": null,
      "id": "17b0bf56",
      "metadata": {
        "id": "17b0bf56",
        "outputId": "5c7daa70-0c8e-47fd-8a17-0482733c9f75"
      },
      "outputs": [
        {
          "data": {
            "text/plain": [
              "999"
            ]
          },
          "execution_count": 24,
          "metadata": {},
          "output_type": "execute_result"
        }
      ],
      "source": [
        "len(mean_of_samples)"
      ]
    },
    {
      "cell_type": "code",
      "execution_count": null,
      "id": "e9ade901",
      "metadata": {
        "id": "e9ade901",
        "outputId": "e6a455f3-6b07-4aca-c8ab-53dfb876c20a"
      },
      "outputs": [
        {
          "data": {
            "text/plain": [
              "<Axes: ylabel='Density'>"
            ]
          },
          "execution_count": 25,
          "metadata": {},
          "output_type": "execute_result"
        },
        {
          "data": {
            "image/png": "[encoded data removed]",
            "text/plain": [
              "<Figure size 640x480 with 1 Axes>"
            ]
          },
          "metadata": {},
          "output_type": "display_data"
        }
      ],
      "source": [
        "sns.distplot(mean_of_samples, kde = True, color = \"red\")"
      ]
    },
    {
      "cell_type": "code",
      "execution_count": null,
      "id": "99801a2a",
      "metadata": {
        "id": "99801a2a",
        "outputId": "f50f4645-21b4-48f3-b04e-dc3a21e5125b"
      },
      "outputs": [
        {
          "data": {
            "text/plain": [
              "array([-1.59238127,  0.24296104,  0.71763906,  0.0653231 ,  0.90522196,\n",
              "        0.73301559,  1.75518471,  0.37422334, -1.53702945,  0.70065805,\n",
              "       -1.46705666, -1.32176823, -0.97404861, -0.59098803,  0.06277045,\n",
              "        0.49384489, -0.57150723,  0.42266665, -0.09388881,  2.13295759,\n",
              "       -1.28036694, -0.12205907,  0.84957929,  1.66952945, -0.77658916,\n",
              "       -1.09915373,  0.71090292,  1.78349243,  1.096996  , -0.7580475 ,\n",
              "        0.4607962 , -2.30324487,  2.45536237, -0.07759436, -1.00442541,\n",
              "       -1.30786425, -0.6150748 , -0.31157511, -0.17378874,  0.70515499,\n",
              "       -0.35830098, -0.03583278, -0.0752622 ,  0.76172802, -0.19158947,\n",
              "       -0.55942015,  2.01279201, -0.78763778,  2.00443896, -0.13074625,\n",
              "       -0.57236891,  0.59171146, -0.18711045,  0.09687118, -0.94067134,\n",
              "        1.48336494, -0.86942708, -1.55716704,  0.93304343,  0.57051218,\n",
              "        0.0620017 , -1.30983946, -1.18109881, -1.36884669,  1.6745011 ,\n",
              "       -1.26209552,  1.99824755, -0.27163436, -1.52398254, -2.16255088,\n",
              "       -1.26472853, -0.21578072,  0.68991714, -1.52674671,  0.22138763,\n",
              "       -0.16494661,  0.47515824, -0.58584127,  0.17690235, -0.35523039,\n",
              "       -0.26548664,  2.49147241, -0.61965205, -0.53501732, -1.76517988,\n",
              "        2.09731285, -0.26927326,  0.00823609, -0.59172628, -0.13541872,\n",
              "        0.0823836 , -2.24787018, -1.58799051, -0.47070099, -0.35298615,\n",
              "        0.26493875,  2.32978008, -0.00281765,  0.78118247, -1.51580068])"
            ]
          },
          "execution_count": 26,
          "metadata": {},
          "output_type": "execute_result"
        }
      ],
      "source": [
        "#ztest\n",
        "\n",
        "population = np.random.randn(100)\n",
        "population"
      ]
    },
    {
      "cell_type": "code",
      "execution_count": null,
      "id": "9c1c6ab5",
      "metadata": {
        "id": "9c1c6ab5",
        "outputId": "674edfca-17b7-4f6a-af93-891bf6b3c3a4"
      },
      "outputs": [
        {
          "data": {
            "text/plain": [
              "<Axes: ylabel='Density'>"
            ]
          },
          "execution_count": 27,
          "metadata": {},
          "output_type": "execute_result"
        },
        {
          "data": {
            "image/png": "[encoded data removed]",
            "text/plain": [
              "<Figure size 640x480 with 1 Axes>"
            ]
          },
          "metadata": {},
          "output_type": "display_data"
        }
      ],
      "source": [
        "sns.distplot(population)"
      ]
    },
    {
      "cell_type": "code",
      "execution_count": null,
      "id": "15bfda55",
      "metadata": {
        "id": "15bfda55",
        "outputId": "8d662a89-6129-4879-9a10-c0f25e25d92f"
      },
      "outputs": [
        {
          "data": {
            "text/plain": [
              "(-0.07651065246193427, 1.1094201967066353)"
            ]
          },
          "execution_count": 28,
          "metadata": {},
          "output_type": "execute_result"
        }
      ],
      "source": [
        "np.mean(population), np.std(population)"
      ]
    },
    {
      "cell_type": "code",
      "execution_count": null,
      "id": "cc35e4ff",
      "metadata": {
        "id": "cc35e4ff"
      },
      "outputs": [],
      "source": [
        "#for hypothesis testing\n",
        "#frame the hypothesis\n",
        "#alpha, type of test\n",
        "#test statistics or pvalue approach >> if pvalue <0.05>> we reject the null hypothesis\n",
        "#test critical\n",
        "#conclusion"
      ]
    },
    {
      "cell_type": "code",
      "execution_count": null,
      "id": "83c5ee63",
      "metadata": {
        "id": "83c5ee63"
      },
      "outputs": [],
      "source": [
        "null_mean = 0.09 #hypothesis\n",
        "#alternate >= 0.09"
      ]
    },
    {
      "cell_type": "code",
      "execution_count": null,
      "id": "abc09a93",
      "metadata": {
        "id": "abc09a93"
      },
      "outputs": [],
      "source": [
        "from statsmodels.stats.weightstats import ztest\n",
        "zscore, pvalue = ztest(population, value = null_mean, alternative = 'larger')"
      ]
    },
    {
      "cell_type": "code",
      "execution_count": null,
      "id": "50b6bcf1",
      "metadata": {
        "id": "50b6bcf1",
        "outputId": "6e0eefe6-f586-439c-dc8e-095c2142a79d"
      },
      "outputs": [
        {
          "data": {
            "text/plain": [
              "-1.4933566906017024"
            ]
          },
          "execution_count": 34,
          "metadata": {},
          "output_type": "execute_result"
        }
      ],
      "source": [
        "zscore"
      ]
    },
    {
      "cell_type": "code",
      "execution_count": null,
      "id": "9bd1eca9",
      "metadata": {
        "id": "9bd1eca9",
        "outputId": "f27ef6ff-8106-4032-9294-6d297b11034f"
      },
      "outputs": [
        {
          "data": {
            "text/plain": [
              "0.932328078316925"
            ]
          },
          "execution_count": 35,
          "metadata": {},
          "output_type": "execute_result"
        }
      ],
      "source": [
        "pvalue"
      ]
    },
    {
      "cell_type": "code",
      "execution_count": null,
      "id": "3ad922d0",
      "metadata": {
        "id": "3ad922d0",
        "outputId": "b96ad17d-cb49-4cb9-f4fb-88c2a80a8d84"
      },
      "outputs": [
        {
          "name": "stdout",
          "output_type": "stream",
          "text": [
            "fail to reject null hypothesis\n"
          ]
        }
      ],
      "source": [
        "if pvalue <= 0.05:\n",
        "    print(\"reject the null hypothesis\")\n",
        "else:\n",
        "    print(\"fail to reject null hypothesis\")"
      ]
    },
    {
      "cell_type": "code",
      "execution_count": null,
      "id": "ca535785",
      "metadata": {
        "id": "ca535785"
      },
      "outputs": [],
      "source": [
        "#z critical approach\n",
        "\n",
        "#A school calculated iq scores of 50 students, the average iq  turned out to be 100. the mean of population iq is 90\n",
        "#and the std deviation 16. \\\n",
        "#state whether the claim by school\n",
        "#that IQ increases if student study more than avg of school with 5% of significance level\n",
        "\n",
        "#null hypothesis : mean_iq = 90\n",
        "#Alternate: mean_iq > 90"
      ]
    },
    {
      "cell_type": "code",
      "execution_count": null,
      "id": "d14f6196",
      "metadata": {
        "id": "d14f6196"
      },
      "outputs": [],
      "source": []
    },
    {
      "cell_type": "code",
      "execution_count": null,
      "id": "80eed26e",
      "metadata": {
        "id": "80eed26e"
      },
      "outputs": [],
      "source": [
        "import scipy.stats as stats #zcritical approach\n",
        "\n",
        "sample_mean = 100\n",
        "population_mean = 90\n",
        "population_std = 16\n",
        "sample_size = 60\n",
        "alpha = 0.05"
      ]
    },
    {
      "cell_type": "code",
      "execution_count": null,
      "id": "22af6160",
      "metadata": {
        "id": "22af6160",
        "outputId": "61a74815-fe01-4422-fe53-6a152f47a813"
      },
      "outputs": [
        {
          "name": "stdout",
          "output_type": "stream",
          "text": [
            "The zscore is 4.419417382415922\n"
          ]
        }
      ],
      "source": [
        "zscore = (sample_mean - population_mean) / (population_std/np.sqrt(50))\n",
        "print(\"The zscore is\", zscore)"
      ]
    },
    {
      "cell_type": "code",
      "execution_count": null,
      "id": "b53f265c",
      "metadata": {
        "id": "b53f265c"
      },
      "outputs": [],
      "source": [
        "#for zcritical scipy.stats\n",
        "#norm>>normal distibution\n",
        "#ppf >> percent point function >>inverse of cumulative distribution function(cdf)\n",
        "zcritical = stats.norm.ppf(1-alpha)"
      ]
    },
    {
      "cell_type": "code",
      "execution_count": null,
      "id": "1301e0b1",
      "metadata": {
        "id": "1301e0b1",
        "outputId": "64289023-8a73-49fd-d902-0bef47a3f911"
      },
      "outputs": [
        {
          "data": {
            "text/plain": [
              "1.6448536269514722"
            ]
          },
          "execution_count": 41,
          "metadata": {},
          "output_type": "execute_result"
        }
      ],
      "source": [
        "zcritical"
      ]
    },
    {
      "cell_type": "code",
      "execution_count": null,
      "id": "41c98d6c",
      "metadata": {
        "id": "41c98d6c",
        "outputId": "cb765f11-5b64-4220-f8f5-1c57df9da4c5"
      },
      "outputs": [
        {
          "name": "stdout",
          "output_type": "stream",
          "text": [
            "Reject the null hypothesis\n"
          ]
        }
      ],
      "source": [
        "if zscore > zcritical:\n",
        "    print(\"Reject the null hypothesis\")\n",
        "else:\n",
        "    print(\"fail to reject the null hypothesis\")"
      ]
    },
    {
      "cell_type": "code",
      "execution_count": null,
      "id": "e5fc1199",
      "metadata": {
        "id": "e5fc1199",
        "outputId": "39037401-5241-48c5-d4be-4c94b5797018"
      },
      "outputs": [
        {
          "name": "stdout",
          "output_type": "stream",
          "text": [
            "reject the null hypothesis\n"
          ]
        }
      ],
      "source": [
        "#using bscipy.stats pvalue approach\n",
        "p_value = 1-stats.norm.cdf(zscore)\n",
        "\n",
        "if p_value <= 0.05:\n",
        "    print(\"reject the null hypothesis\")\n",
        "else:\n",
        "    print(\"fail to reject null hypothesis\")"
      ]
    },
    {
      "cell_type": "code",
      "execution_count": null,
      "id": "7d076010",
      "metadata": {
        "id": "7d076010"
      },
      "outputs": [],
      "source": [
        "#T test when sample size < 30 or sigma or population is not given\n",
        "#one sample t-test (with respect to one independent sample)\n",
        "#two sample t-test (with respect to two independent sample)\n",
        "#paired t-test (two sample from the population at different time interval)"
      ]
    },
    {
      "cell_type": "code",
      "execution_count": null,
      "id": "2284e007",
      "metadata": {
        "id": "2284e007"
      },
      "outputs": [],
      "source": [
        "#one sample t-test\n",
        "population = np.random.randint(10, 50, 50)"
      ]
    },
    {
      "cell_type": "code",
      "execution_count": null,
      "id": "077ea8fc",
      "metadata": {
        "id": "077ea8fc",
        "outputId": "f9efb4da-7bb4-40d9-d2e5-8e9da350762d"
      },
      "outputs": [
        {
          "data": {
            "text/plain": [
              "array([41, 47, 23, 40, 27, 37, 16, 41, 17, 10, 46, 41, 47, 24, 40, 36, 15,\n",
              "       30, 36, 39, 18, 32, 20, 49, 22, 47, 47, 22, 48, 43, 20, 20, 26, 17,\n",
              "       17, 42, 14, 30, 11, 42, 22, 23, 22, 40, 34, 14, 10, 36, 18, 35])"
            ]
          },
          "execution_count": 49,
          "metadata": {},
          "output_type": "execute_result"
        }
      ],
      "source": [
        "population"
      ]
    },
    {
      "cell_type": "code",
      "execution_count": null,
      "id": "6961723a",
      "metadata": {
        "id": "6961723a"
      },
      "outputs": [],
      "source": [
        "sample = np.random.choice(population, 20)"
      ]
    },
    {
      "cell_type": "code",
      "execution_count": null,
      "id": "b2d2a67c",
      "metadata": {
        "id": "b2d2a67c",
        "outputId": "2188cb64-5395-4358-b3e7-e4fb931a9505"
      },
      "outputs": [
        {
          "data": {
            "text/plain": [
              "28.8"
            ]
          },
          "execution_count": 51,
          "metadata": {},
          "output_type": "execute_result"
        }
      ],
      "source": [
        "np.mean(sample)"
      ]
    },
    {
      "cell_type": "code",
      "execution_count": null,
      "id": "340a537f",
      "metadata": {
        "id": "340a537f",
        "outputId": "d6d8e893-a113-4631-cc90-37852bce25be"
      },
      "outputs": [
        {
          "data": {
            "text/plain": [
              "TtestResult(statistic=1.3419147145315902, pvalue=0.19544149932091998, df=19)"
            ]
          },
          "execution_count": 52,
          "metadata": {},
          "output_type": "execute_result"
        }
      ],
      "source": [
        "#for t test scipy.stats\n",
        "null_value = 25 #the mean of population is 25\n",
        "stats.ttest_1samp(sample, null_value)"
      ]
    },
    {
      "cell_type": "code",
      "execution_count": null,
      "id": "5f394c84",
      "metadata": {
        "id": "5f394c84",
        "outputId": "1f2ef367-1b1e-45b0-bb3d-9040521f6825"
      },
      "outputs": [
        {
          "name": "stdout",
          "output_type": "stream",
          "text": [
            "fail to reject null hypothesis\n"
          ]
        }
      ],
      "source": [
        "p_value = 0.19\n",
        "if p_value <= 0.05:\n",
        "    print(\"reject the null hypothesis\")\n",
        "else:\n",
        "    print(\"fail to reject null hypothesis\")"
      ]
    },
    {
      "cell_type": "code",
      "execution_count": null,
      "id": "9bac8e17",
      "metadata": {
        "id": "9bac8e17",
        "outputId": "6d801f43-1fe2-48f9-866a-010c02f4225b"
      },
      "outputs": [
        {
          "data": {
            "text/plain": [
              "array([37, 40, 30, 11, 40, 43, 22, 40, 47, 15, 22, 30, 47, 17, 40, 14, 23,\n",
              "       11, 40, 22])"
            ]
          },
          "execution_count": 54,
          "metadata": {},
          "output_type": "execute_result"
        }
      ],
      "source": [
        "#two sample t-test\n",
        "virat_kohli_score = np.random.choice(population, 20)\n",
        "virat_kohli_score"
      ]
    },
    {
      "cell_type": "code",
      "execution_count": null,
      "id": "0e557ae6",
      "metadata": {
        "id": "0e557ae6"
      },
      "outputs": [],
      "source": [
        "rohit_sharma_score = [13, 25, 48, 28, 19, 12, 13, 18, 98, 40, 18, 23, 34, 33, 45, 58, 46, 27, 50, 49]"
      ]
    },
    {
      "cell_type": "code",
      "execution_count": null,
      "id": "b85cb953",
      "metadata": {
        "id": "b85cb953",
        "outputId": "9e78ee8e-2471-4922-dfbb-3ed98f4b39d5"
      },
      "outputs": [
        {
          "data": {
            "text/plain": [
              "(34.85, 29.55)"
            ]
          },
          "execution_count": 57,
          "metadata": {},
          "output_type": "execute_result"
        }
      ],
      "source": [
        "np.mean(rohit_sharma_score), np.mean(virat_kohli_score)"
      ]
    },
    {
      "cell_type": "code",
      "execution_count": null,
      "id": "e66174ae",
      "metadata": {
        "id": "e66174ae",
        "outputId": "4e706d18-49ca-48ec-c727-10df6f05c224"
      },
      "outputs": [
        {
          "data": {
            "text/plain": [
              "Ttest_indResult(statistic=-0.9881611794543055, pvalue=0.3293242932010635)"
            ]
          },
          "execution_count": 58,
          "metadata": {},
          "output_type": "execute_result"
        }
      ],
      "source": [
        "stats.ttest_ind(virat_kohli_score, rohit_sharma_score)"
      ]
    },
    {
      "cell_type": "code",
      "execution_count": null,
      "id": "317b1071",
      "metadata": {
        "id": "317b1071",
        "outputId": "94a2459b-5c5c-4c16-8847-992db514f67f"
      },
      "outputs": [
        {
          "name": "stdout",
          "output_type": "stream",
          "text": [
            "fail to reject null hypothesis\n"
          ]
        }
      ],
      "source": [
        "p_value = 0.329\n",
        "if p_value <= 0.05:\n",
        "    print(\"reject the null hypothesis\")\n",
        "else:\n",
        "    print(\"fail to reject null hypothesis\")"
      ]
    },
    {
      "cell_type": "code",
      "execution_count": null,
      "id": "814cfa2a",
      "metadata": {
        "id": "814cfa2a"
      },
      "outputs": [],
      "source": [
        "#paired_t test test\n",
        "rohit_score_first_inning = [31, 36, 46, 24, 48, 46, 47, 47, 16, 35, 45, 37, 24, 29, 27, 42, 49, 37, 47, 46]\n",
        "rohit_score_second_inning = [31, 76, 46, 24, 48, 23, 49, 47, 37, 35, 45, 37, 74, 39, 27, 42, 49, 37, 47, 46]"
      ]
    },
    {
      "cell_type": "code",
      "execution_count": null,
      "id": "b24f4ef5",
      "metadata": {
        "id": "b24f4ef5",
        "outputId": "10cbbcd9-da4c-441d-a9a2-9c766b61c76e"
      },
      "outputs": [
        {
          "data": {
            "text/plain": [
              "(37.95, 42.95)"
            ]
          },
          "execution_count": 61,
          "metadata": {},
          "output_type": "execute_result"
        }
      ],
      "source": [
        "np.mean(rohit_score_first_inning), np.mean(rohit_score_second_inning)"
      ]
    },
    {
      "cell_type": "code",
      "execution_count": null,
      "id": "b170b238",
      "metadata": {
        "id": "b170b238",
        "outputId": "e949da44-ae1f-4038-92c1-62c6c00dcfb4"
      },
      "outputs": [
        {
          "data": {
            "text/plain": [
              "TtestResult(statistic=-1.4256648712805027, pvalue=0.17018806846147658, df=19)"
            ]
          },
          "execution_count": 62,
          "metadata": {},
          "output_type": "execute_result"
        }
      ],
      "source": [
        "stats.ttest_rel(rohit_score_first_inning, rohit_score_second_inning)"
      ]
    },
    {
      "cell_type": "code",
      "execution_count": null,
      "id": "7b518197",
      "metadata": {
        "id": "7b518197",
        "outputId": "b9bf1b0e-5113-455a-e670-0a01de226e87"
      },
      "outputs": [
        {
          "name": "stdout",
          "output_type": "stream",
          "text": [
            "fail to reject null hypothesis\n"
          ]
        }
      ],
      "source": [
        "p_value = 0.17\n",
        "if p_value <= 0.05:\n",
        "    print(\"reject the null hypothesis\")\n",
        "else:\n",
        "    print(\"fail to reject null hypothesis\")"
      ]
    },
    {
      "cell_type": "code",
      "execution_count": null,
      "id": "b56985ba",
      "metadata": {
        "id": "b56985ba"
      },
      "outputs": [],
      "source": []
    }
  ],
  "metadata": {
    "kernelspec": {
      "display_name": "Python 3 (ipykernel)",
      "language": "python",
      "name": "python3"
    },
    "language_info": {
      "codemirror_mode": {
        "name": "ipython",
        "version": 3
      },
      "file_extension": ".py",
      "mimetype": "text/x-python",
      "name": "python",
      "nbconvert_exporter": "python",
      "pygments_lexer": "ipython3",
      "version": "3.11.4"
    },
    "colab": {
      "provenance": []
    }
  },
  "nbformat": 4,
  "nbformat_minor": 5
}